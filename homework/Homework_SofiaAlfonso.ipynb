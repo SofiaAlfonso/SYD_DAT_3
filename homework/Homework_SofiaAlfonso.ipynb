{
 "cells": [
  {
   "cell_type": "markdown",
   "metadata": {},
   "source": [
    "# SYD DAT 3 Lab 1 - Git and Markdown\n",
    "\n",
    "##Homework:\n",
    "\n",
    "#### Setup\n",
    "+ Resolve any installation issues before next class. - *DONE*\n",
    "+ Make sure you have a github profile and created a repo called \"SYD_DAT_3\" - *DONE*\n",
    "+ Clone the class repo (this one!) - *DONE*\n",
    "+ Review this [code](../labs/Week 1/00_python_refresher.py) for a recap of some Python basics. - *DONE*\n",
    "\n",
    "#### Communication\n",
    "* Read [Analyzing the Analyzers](http://cdn.oreillystatic.com/oreilly/radarreport/0636920029014/Analyzing_the_Analyzers.pdf) for a useful look at the different types of data scientists. Write down 5 key points you took away from the article - *DONE*\n",
    "* Read about some [Markdown Techniques](http://daringfireball.net/projects/markdown/syntax) - *DONE*\n",
    "* Write a summary of 2 chapters of [The Data Science Handbook](http://www.thedatasciencehandbook.com/) in Markdown and submit a pull request in the Lab Directory\n",
    "\n",
    "#####Summary 1: Chapter Pete Skomoroch\n",
    "Pete Skomoroch, now Principal data scientist at Data Wrangling, has been in the Data Science field since the beginning. On his interview, he describes the evolution he has seen on the field and his own career, and provides some insights on how to become a good data scientist.\n",
    "The Data Science role was created to bridge the gap between the theoretical research done by scientists and the development done by the engineers. It was a hybrid scientist-engineer role. Nowadays, some data scientist still fit into that role but they could also be statisticians, business analysists, marketers, or data visualisers.\n",
    "Pete started his career as a research engineer at AOL. He did neuroscience research as an undergraduate and graduated with a strong background on math and physics. However, he was not a very strong programmer. His advice to current people studying on the field is to take as many math and physics classes as possible but to also learn computer science. He believes that knowledge would have helped him grow faster in the industry.\n", 
    "He also advises taking extra time to learn and develop skills, not only by studying but also by engaging on side projects and working with people that know about the field. He believes that the only way to excel at something is to take extra time to learn it, and that ‘anything worth doing is worth doing well’. He would also encourage managers to keep coding because technology evolves fast and ‘the further you get from the nuts and bolts, the harder it is to make intelligent decisions’.\n",
    "Pete’s experience is very wide, ranging from work at the Lincoln Labs to Silicon Valley, and though his career he has seen Fortune 500 companies grow in interest towards Data Science. Seeing successful companies like Google and Facebook makes data science seem like magic, and other companies want to replicate their outstanding results.\n",
    "He explains that in his experience, bringing to life ideas is easier on younger companies and such was the case when he started in LinkedIn. Startups usually have smaller teams where you get to where ‘many hats’ in order to bring an idea to life and with less people involved, the time to execution is shorter. However, some startups fail because they do not hit the product-market fit, and the product does not align to the company objectives.\n",
    "He explains the learning data science requires a lot of focus and finding very good mentors, who would train you and help you push projects through the management levels.\n",
    "\n",
    "#### Programming\n",
    "* Complete the lab from class and the additional Exercise below\n",
    "\n",
    "#### Course Project\n",
    "* Come up with 5 different ideas for your course project. For each one list:\n",
    "  * Overview of your idea\n",
    "  * What data you will use\n",
    "  * What the outcome is that you are trying to achieve\n",
    "  * Any ideas of modelling techniques it may involve\n",
    "\n",
    "#####1. Idea 1\n",
    "*Overview of your idea*\n",
    "Identifying the key elements that contribute to employees’ satisfaction at work.\n",
    "*What data you will use*\n",
    "Survey conducted at work – 650 data points.\n",
    "*What the outcome is that you are trying to achieve*\n",
    "Understand what elements contribute to make people happy at work.\n",
    "*Any ideas of modelling techniques it may involve*\n",
    "* Free Text Analysis.\n",
    "* Unsupervised learning.\n",
    "\n",
    "#####2. Idea 2\n",
    "*Overview of your idea*\n",
    "Predicting the success of a mobile app.\n",
    "*What data you will use*\n",
    "?\n",
    "*What the outcome is that you are trying to achieve*\n",
    "Understand what features and characteristics have the largest impact on determining a new app success.\n",
    "*Any ideas of modelling techniques it may involve*\n",
    "* Classification on features.\n",
    "* Supervised Learning.\n",
    "\n",
    "#####3. Idea 3\n",
    "*Overview of your idea*\n",
    "Kaggle Project: Uncover the political landscape in Hillary Clinton's emails.\n",
    "*What data you will use*\n",
    "Email Dataset from Hillary Clinton's emails",
    "*What the outcome is that you are trying to achieve*\n",
    "Identify key topics and frequency changes over time.\n",
    "*Any ideas of modelling techniques it may involve*\n",
    "* Analysing most popular topics - identification.\n",
    "* Frequency analysis.\n",
    "\n",

    "**Instructions: copy this file and append your name in the filename, e.g. Homework1_ian_hansel.ipynb.\n",
    "Then commit this in your local repository, push it to your github account and create a pull request so I can see your work. Remeber if you get stuck to look at the slides going over Fork, Clone, Commit, Push and Pull request.**"
   ]
  },
  {
   "cell_type": "markdown",
   "metadata": {},
   "source": [
    "## Exercise Four - Movie Lens Data"
   ]
  },
  {
   "cell_type": "code",
   "execution_count": null,
   "metadata": {
    "collapsed": true
   },
   "outputs": [],
   "source": [
    "# for each occupation in 'users', count the number of occurrences\n",
    "\n",
    "users.occupation.value_counts()\n",
    "\n",
    "# for each occupation, calculate the mean age\n",
    "\n",
    "users.groupby('occupation').age.mean()\n",
    "\n",
    "# for each occupation, calculate the minimum and maximum ages\n",
    "\n",
    "users.groupby('occupation').age.max()\n",
    "users.groupby('occupation').age.min()\n",
    "\n",
    "# for each combination of occupation and gender, calculate the mean age\n",
    "\n",
    "users[users.gender == 'M'].groupby('occupation').age.mean()\n",
    "users[users.gender == 'F'].groupby('occupation').age.mean()\n",
    "\n",
    "# randomly sample a DataFrame\n",
    "\n",
    "users.sample(5)\n",
    "\n",
    "# detect duplicate users\n",
    "\n",
    "Dups=users.duplicated()\n",
    "print users[Dups]"
   ]
  }
 ],
 "metadata": {
  "kernelspec": {
   "display_name": "Python 2",
   "language": "python",
   "name": "python2"
  },
  "language_info": {
   "codemirror_mode": {
    "name": "ipython",
    "version": 2
   },
   "file_extension": ".py",
   "mimetype": "text/x-python",
   "name": "python",
   "nbconvert_exporter": "python",
   "pygments_lexer": "ipython2",
   "version": "2.7.10"
  }
 },
 "nbformat": 4,
 "nbformat_minor": 0
}
